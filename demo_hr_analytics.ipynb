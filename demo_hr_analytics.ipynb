{
 "cells": [
  {
   "cell_type": "code",
   "execution_count": 7,
   "id": "4769cf35-fb5f-499a-81dd-d943751f708f",
   "metadata": {},
   "outputs": [
    {
     "name": "stdout",
     "output_type": "stream",
     "text": [
      "\n",
      "=== Headcount by division ===\n",
      "rows: 6\n",
      "[{'division': 'Marketing', 'headcount': 76}, {'division': 'Operations', 'headcount': 72}, {'division': 'HR', 'headcount': 67}, {'division': 'Finance', 'headcount': 67}, {'division': 'Sales', 'headcount': 59}]\n",
      "\n",
      "=== Hired last 6 months with active assignments ===\n",
      "rows: 20\n",
      "[{'personIdExternal': 'EMP00087', 'startDate': '2025-08-04', 'division': 'Sales', 'department': 'Enterprise Sales', 'assignmentType': 'PART-TIME', 'assignmentStatus': 'A'}, {'personIdExternal': 'EMP00131', 'startDate': '2025-08-04', 'division': 'Operations', 'department': 'Supply Chain', 'assignmentType': 'PART-TIME', 'assignmentStatus': 'A'}, {'personIdExternal': 'EMP00087', 'startDate': '2025-08-04', 'division': 'Sales', 'department': 'Enterprise Sales', 'assignmentType': 'CONTRACT', 'assignmentStatus': 'A'}, {'personIdExternal': 'EMP00055', 'startDate': '2025-07-25', 'division': 'Operations', 'department': 'Supply Chain', 'assignmentType': 'CONTRACT', 'assignmentStatus': 'A'}, {'personIdExternal': 'EMP00291', 'startDate': '2025-07-22', 'division': 'Operations', 'department': 'Legal', 'assignmentType': 'CONTRACT', 'assignmentStatus': 'A'}]\n",
      "\n",
      "=== Average tenure by department (full-time) ===\n",
      "rows: 19\n",
      "[{'department': 'Brand', 'avg_tenure_years': 2.2116358658453117}, {'department': 'DevOps', 'avg_tenure_years': 2.0831133274665103}, {'department': 'Recruiting', 'avg_tenure_years': 1.987484110687396}, {'department': 'Inside Sales', 'avg_tenure_years': 1.9756331279945243}, {'department': 'QA', 'avg_tenure_years': 1.9115674195756331}]\n",
      "\n",
      "=== Managers with >5 direct reports ===\n",
      "rows: 4\n",
      "[{'managerId': None, 'department': 'Product Marketing', 'direct_reports': 7}, {'managerId': None, 'department': 'FP&A', 'direct_reports': 6}, {'managerId': None, 'department': 'Tax', 'direct_reports': 6}, {'managerId': None, 'department': 'Benefits', 'direct_reports': 6}]\n",
      "\n",
      "=== NLP: Show headcount by division and employment status ===\n"
     ]
    },
    {
     "ename": "IndexError",
     "evalue": "list index out of range",
     "output_type": "error",
     "traceback": [
      "\u001b[0;31m---------------------------------------------------------------------------\u001b[0m",
      "\u001b[0;31mIndexError\u001b[0m                                Traceback (most recent call last)",
      "Cell \u001b[0;32mIn[7], line 62\u001b[0m\n\u001b[1;32m     60\u001b[0m qry \u001b[38;5;241m=\u001b[39m \u001b[38;5;124m\"\u001b[39m\u001b[38;5;124mShow headcount by division and employment status\u001b[39m\u001b[38;5;124m\"\u001b[39m\n\u001b[1;32m     61\u001b[0m plan5 \u001b[38;5;241m=\u001b[39m nlp\u001b[38;5;241m.\u001b[39mparse(qry)\n\u001b[0;32m---> 62\u001b[0m \u001b[43mrun\u001b[49m\u001b[43m(\u001b[49m\u001b[43mplan5\u001b[49m\u001b[43m,\u001b[49m\u001b[43m \u001b[49m\u001b[38;5;124;43mf\u001b[39;49m\u001b[38;5;124;43m\"\u001b[39;49m\u001b[38;5;124;43mNLP: \u001b[39;49m\u001b[38;5;132;43;01m{\u001b[39;49;00m\u001b[43mqry\u001b[49m\u001b[38;5;132;43;01m}\u001b[39;49;00m\u001b[38;5;124;43m\"\u001b[39;49m\u001b[43m)\u001b[49m\n",
      "Cell \u001b[0;32mIn[7], line 13\u001b[0m, in \u001b[0;36mrun\u001b[0;34m(plan, title)\u001b[0m\n\u001b[1;32m     11\u001b[0m \u001b[38;5;28;01mdef\u001b[39;00m \u001b[38;5;21mrun\u001b[39m(plan, title):\n\u001b[1;32m     12\u001b[0m     \u001b[38;5;28mprint\u001b[39m(\u001b[38;5;124mf\u001b[39m\u001b[38;5;124m\"\u001b[39m\u001b[38;5;130;01m\\n\u001b[39;00m\u001b[38;5;124m=== \u001b[39m\u001b[38;5;132;01m{\u001b[39;00mtitle\u001b[38;5;132;01m}\u001b[39;00m\u001b[38;5;124m ===\u001b[39m\u001b[38;5;124m\"\u001b[39m)\n\u001b[0;32m---> 13\u001b[0m     res \u001b[38;5;241m=\u001b[39m \u001b[43mexecute_plan\u001b[49m\u001b[43m(\u001b[49m\u001b[43mspark\u001b[49m\u001b[43m,\u001b[49m\u001b[43m \u001b[49m\u001b[43mmeta\u001b[49m\u001b[43m,\u001b[49m\u001b[43m \u001b[49m\u001b[43mplan\u001b[49m\u001b[43m)\u001b[49m\n\u001b[1;32m     14\u001b[0m     \u001b[38;5;28mprint\u001b[39m(\u001b[38;5;124m\"\u001b[39m\u001b[38;5;124mrows:\u001b[39m\u001b[38;5;124m\"\u001b[39m, res\u001b[38;5;241m.\u001b[39mget(\u001b[38;5;124m\"\u001b[39m\u001b[38;5;124mcount\u001b[39m\u001b[38;5;124m\"\u001b[39m))\n\u001b[1;32m     15\u001b[0m     \u001b[38;5;28;01mif\u001b[39;00m res\u001b[38;5;241m.\u001b[39mget(\u001b[38;5;124m\"\u001b[39m\u001b[38;5;124mrows\u001b[39m\u001b[38;5;124m\"\u001b[39m): \u001b[38;5;28mprint\u001b[39m(res[\u001b[38;5;124m\"\u001b[39m\u001b[38;5;124mrows\u001b[39m\u001b[38;5;124m\"\u001b[39m][:\u001b[38;5;241m5\u001b[39m])\n",
      "File \u001b[0;32m~/work/src/hr_query_engine.py:182\u001b[0m, in \u001b[0;36mexecute_plan\u001b[0;34m(spark, meta, plan)\u001b[0m\n\u001b[1;32m    179\u001b[0m     result \u001b[38;5;241m=\u001b[39m df_map[\u001b[38;5;124m\"\u001b[39m\u001b[38;5;124mworkforce\u001b[39m\u001b[38;5;124m\"\u001b[39m]\u001b[38;5;241m.\u001b[39mjoin(df_map[\u001b[38;5;124m\"\u001b[39m\u001b[38;5;124massignment\u001b[39m\u001b[38;5;124m\"\u001b[39m], on\u001b[38;5;241m=\u001b[39mjoin_key, how\u001b[38;5;241m=\u001b[39m\u001b[38;5;124m\"\u001b[39m\u001b[38;5;124minner\u001b[39m\u001b[38;5;124m\"\u001b[39m)\n\u001b[1;32m    180\u001b[0m \u001b[38;5;28;01melse\u001b[39;00m:\n\u001b[1;32m    181\u001b[0m     \u001b[38;5;66;03m# choose the only table result\u001b[39;00m\n\u001b[0;32m--> 182\u001b[0m     key \u001b[38;5;241m=\u001b[39m \u001b[43mtables\u001b[49m\u001b[43m[\u001b[49m\u001b[38;5;241;43m0\u001b[39;49m\u001b[43m]\u001b[49m\n\u001b[1;32m    183\u001b[0m     result \u001b[38;5;241m=\u001b[39m df_map[key]\n\u001b[1;32m    185\u001b[0m \u001b[38;5;66;03m# SELECT / GROUP BY / AGG\u001b[39;00m\n",
      "\u001b[0;31mIndexError\u001b[0m: list index out of range"
     ]
    }
   ],
   "source": [
    "from pyspark.sql import SparkSession\n",
    "from hr_metadata_service import HRMetadataService\n",
    "from workforce_nlp_processor import WorkforceNLPProcessor\n",
    "from hr_query_engine import execute_plan\n",
    "from datetime import date, timedelta\n",
    "\n",
    "spark = SparkSession.builder.appName(\"workforce-idqs-notebook\").getOrCreate()\n",
    "meta = HRMetadataService(data_dir=\"data\").load()\n",
    "nlp = WorkforceNLPProcessor()\n",
    "\n",
    "def run(plan, title):\n",
    "    print(f\"\\n=== {title} ===\")\n",
    "    res = execute_plan(spark, meta, plan)\n",
    "    print(\"rows:\", res.get(\"count\"))\n",
    "    if res.get(\"rows\"): print(res[\"rows\"][:5])\n",
    "    return res\n",
    "\n",
    "# Headcount by division\n",
    "plan1 = {\"intent\":\"organizational_analysis\",\"tables\":[\"workforce\"],\n",
    "         \"select\":[\"division\"],\"group_by\":[\"division\"],\n",
    "         \"aggregations\":[{\"function\":\"count_distinct\",\"column\":\"personIdExternal\",\"alias\":\"headcount\"}],\n",
    "         \"order_by\":[{\"column\":\"headcount\",\"direction\":\"desc\"}],\"limit\":1000,\"glossary_refs\":[\"headcount\"],\n",
    "         \"business_context\":\"Headcount grouped by division\"}\n",
    "run(plan1, \"Headcount by division\")\n",
    "\n",
    "# Hired last N months with active assignments\n",
    "since = (date.today() - timedelta(days=30*6)).isoformat()\n",
    "plan2 = {\"intent\":\"cross_table_analysis\",\"tables\":[\"workforce\",\"assignment\"],\n",
    "         \"joins\":[{\"left_table\":\"workforce\",\"right_table\":\"assignment\",\"on\":\"personIdExternal\"}],\n",
    "         \"where\":[{\"table\":\"workforce\",\"column\":\"startDate\",\"operator\":\">=\",\"value\":since},\n",
    "                  {\"table\":\"assignment\",\"column\":\"assignmentStatus\",\"operator\":\"=\",\"value\":\"A\"}],\n",
    "         \"select\":[\"personIdExternal\",\"startDate\",\"division\",\"department\",\"assignmentType\",\"assignmentStatus\"],\n",
    "         \"order_by\":[{\"column\":\"startDate\",\"direction\":\"desc\"}],\"limit\":20,\n",
    "         \"glossary_refs\":[\"active_assignment\"],\n",
    "         \"business_context\":f\"Hired since {since} with active assignments\"}\n",
    "run(plan2, \"Hired last 6 months with active assignments\")\n",
    "\n",
    "# Average tenure by department, full-time employees\n",
    "plan3 = {\"intent\":\"workforce_analytics\",\"tables\":[\"workforce\",\"assignment\"],\n",
    "         \"joins\":[{\"left_table\":\"workforce\",\"right_table\":\"assignment\",\"on\":\"personIdExternal\"}],\n",
    "         \"where\":[{\"table\":\"assignment\",\"column\":\"assignmentType\",\"operator\":\"in\",\"value\":[\"FULL-TIME\",\"FULL TIME\",\"FT\"]},\n",
    "                  {\"table\":\"workforce\",\"column\":\"status\",\"operator\":\"=\",\"value\":\"A\"}],\n",
    "         \"select\":[\"department\"],\"group_by\":[\"department\"],\n",
    "         \"aggregations\":[{\"function\":\"avg_tenure_years\",\"column\":\"startDate\",\"alias\":\"avg_tenure_years\"}],\n",
    "         \"order_by\":[{\"column\":\"avg_tenure_years\",\"direction\":\"desc\"}],\"limit\":1000,\n",
    "         \"glossary_refs\":[\"tenure_years\",\"full_time\",\"active_employees\"],\n",
    "         \"business_context\":\"Average tenure by department for full-time active employees\"}\n",
    "run(plan3, \"Average tenure by department (full-time)\")\n",
    "\n",
    "# Managers with >5 reports\n",
    "plan4 = {\"intent\":\"management_hierarchy\",\"tables\":[\"workforce\"],\n",
    "         \"select\":[\"managerId\",\"department\"],\"group_by\":[\"managerId\",\"department\"],\n",
    "         \"aggregations\":[{\"function\":\"count\",\"column\":\"personIdExternal\",\"alias\":\"direct_reports\"}],\n",
    "         \"having\":[{\"column\":\"direct_reports\",\"operator\":\">\",\"value\":5}],\n",
    "         \"order_by\":[{\"column\":\"direct_reports\",\"direction\":\"desc\"}],\"limit\":1000,\n",
    "         \"business_context\":\"Managers with >5 direct reports by department\"}\n",
    "run(plan4, \"Managers with >5 direct reports\")\n",
    "\n",
    "# NLP example\n",
    "qry = \"Show headcount by division and employment status\"\n",
    "plan5 = nlp.parse(qry)\n",
    "run(plan5, f\"NLP: {qry}\")\n"
   ]
  },
  {
   "cell_type": "code",
   "execution_count": null,
   "id": "9ea34cd0-8233-4825-ac01-78e21e1efff2",
   "metadata": {},
   "outputs": [],
   "source": [
    "from importlib import reload\n",
    "import hr_metadata_service\n",
    "reload(hr_metadata_service)\n",
    "from hr_metadata_service import HRMetadataService\n",
    "\n",
    "meta = HRMetadataService(data_dir=\"data\").load()\n",
    "print(\"Glossary keys:\", sorted(meta[\"business_terms\"].keys())[:10], \"…\")\n"
   ]
  },
  {
   "cell_type": "code",
   "execution_count": null,
   "id": "516b1f7e-2e09-4e49-b42f-17eb3cb3f909",
   "metadata": {},
   "outputs": [],
   "source": [
    "from importlib import reload\n",
    "import hr_query_engine\n",
    "reload(hr_query_engine)\n",
    "from hr_query_engine import execute_plan\n"
   ]
  },
  {
   "cell_type": "code",
   "execution_count": null,
   "id": "8397f7de-a38f-4fb1-8770-8ea91a5e50eb",
   "metadata": {},
   "outputs": [],
   "source": [
    "res = execute_plan(spark, meta, plan2)  # the \"Hired last 6 months with active assignments\" plan\n",
    "len(res[\"rows\"]), res[\"rows\"][:3]\n"
   ]
  },
  {
   "cell_type": "code",
   "execution_count": null,
   "id": "d84e74af-c71d-46b9-aea9-b9b846cd0d01",
   "metadata": {},
   "outputs": [],
   "source": []
  }
 ],
 "metadata": {
  "kernelspec": {
   "display_name": "Python 3 (ipykernel)",
   "language": "python",
   "name": "python3"
  },
  "language_info": {
   "codemirror_mode": {
    "name": "ipython",
    "version": 3
   },
   "file_extension": ".py",
   "mimetype": "text/x-python",
   "name": "python",
   "nbconvert_exporter": "python",
   "pygments_lexer": "ipython3",
   "version": "3.11.6"
  }
 },
 "nbformat": 4,
 "nbformat_minor": 5
}
